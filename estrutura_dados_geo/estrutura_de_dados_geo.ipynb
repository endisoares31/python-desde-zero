{
 "cells": [
  {
   "cell_type": "markdown",
   "metadata": {},
   "source": [
    "# Ola Mundo\", \"Mundo Mundo\", \"\n"
   ]
  }
 ],
 "metadata": {
  "kernelspec": {
   "display_name": "Python 3.9.12 ('base')",
   "language": "python",
   "name": "python3"
  },
  "language_info": {
   "name": "python",
   "version": "3.9.12"
  },
  "orig_nbformat": 4,
  "vscode": {
   "interpreter": {
    "hash": "c8d63a4e702273cd8413b118efbac7cfdeb47c9774d17a5061f2027f0889c9e1"
   }
  }
 },
 "nbformat": 4,
 "nbformat_minor": 2
}
