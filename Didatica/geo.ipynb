{
 "cells": [
  {
   "cell_type": "markdown",
   "metadata": {},
   "source": [
    "Tipos de dados\n",
    "Python pode trabalhar com uma grande variadade e tipos de dados, entre eles estão os seguintes:\n",
    "\n",
    "Inteiros - (int)   -> 0, 20, -34\n",
    "\n",
    "Ponto flotuante -  (float)  -> 0.1, 35.0, -100.5\n",
    "\n",
    "Boleanos - (bol)  -> Valores lógicos de True (Verdadeiro) ou False (False)\n",
    "\n",
    "Linhas - (str)   -> Sequencia ordenados de caracteres: \"Python\", \"Ola Mundo\"\n",
    "\n",
    "Listas - (list)  -> Sequencia ordenado de objectos [1,2,3 \"Quatro\", True, [5,6,7]]\n",
    "\n",
    "Tuplas - (tuple)  -> sequencia inmutables de objectos:(\"tres\",[23,34],-89, False)\n",
    "\n",
    "Conjuntos - (set) -> Colecão no ordenadas de objectos:{1,2,\"a\",\"b\"}\n",
    "\n",
    "Dicionários (dict)  -> Pares ordenados atributo:valor {\"nombre\":\"Juan\",\"apelido\":\"Pérez\"}\n",
    "\n",
    "Existem outros tipos de dados mais especializados (por exemplo, datas, horas, listadas) que podem ser encontrados no https://docs.python.org/3/library/collections.html#chainmap-examples-and-recipes\n",
    "\n"
   ]
  },
  {
   "cell_type": "code",
   "execution_count": 24,
   "metadata": {},
   "outputs": [
    {
     "data": {
      "text/plain": [
       "int"
      ]
     },
     "execution_count": 24,
     "metadata": {},
     "output_type": "execute_result"
    }
   ],
   "source": [
    "type(25)"
   ]
  },
  {
   "cell_type": "code",
   "execution_count": 25,
   "metadata": {},
   "outputs": [
    {
     "data": {
      "text/plain": [
       "str"
      ]
     },
     "execution_count": 25,
     "metadata": {},
     "output_type": "execute_result"
    }
   ],
   "source": [
    "type(\"Cabo Verde\")"
   ]
  },
  {
   "cell_type": "code",
   "execution_count": 26,
   "metadata": {},
   "outputs": [
    {
     "data": {
      "text/plain": [
       "list"
      ]
     },
     "execution_count": 26,
     "metadata": {},
     "output_type": "execute_result"
    }
   ],
   "source": [
    "type([1, 2, 3])"
   ]
  },
  {
   "cell_type": "code",
   "execution_count": 27,
   "metadata": {},
   "outputs": [
    {
     "data": {
      "text/plain": [
       "bool"
      ]
     },
     "execution_count": 27,
     "metadata": {},
     "output_type": "execute_result"
    }
   ],
   "source": [
    "type(2 > 5)"
   ]
  },
  {
   "cell_type": "markdown",
   "metadata": {},
   "source": [
    "Variáveis\n",
    "\n",
    "Uma variável é um nome atribuído a um espaço na memória do computador que contém um valor. O valor é atribuído pelo  operador = "
   ]
  },
  {
   "cell_type": "code",
   "execution_count": 28,
   "metadata": {},
   "outputs": [
    {
     "name": "stdout",
     "output_type": "stream",
     "text": [
      "10\n",
      "<class 'int'>\n"
     ]
    }
   ],
   "source": [
    "# A variável 10 é atribuido o valor 10\n",
    "\n",
    "x = 10\n",
    "print(x)\n",
    "print(type(x))"
   ]
  },
  {
   "cell_type": "code",
   "execution_count": 29,
   "metadata": {},
   "outputs": [
    {
     "name": "stdout",
     "output_type": "stream",
     "text": [
      "Patricia\n",
      "<class 'str'>\n"
     ]
    }
   ],
   "source": [
    "#A Variável nome é atribuido o valor \"Patricia\"\n",
    "\n",
    "nome = \"Patricia\"\n",
    "print(nome) \n",
    "print(type(nome))"
   ]
  },
  {
   "cell_type": "code",
   "execution_count": 30,
   "metadata": {},
   "outputs": [
    {
     "name": "stdout",
     "output_type": "stream",
     "text": [
      "[2, 3, 5, 7, 11, 13, 17]\n",
      "<class 'list'>\n"
     ]
    }
   ],
   "source": [
    "#A variável lista_primos foi atribuido o valor da listas de numero de primos\n",
    "\n",
    "lista_primos = [2, 3, 5, 7, 11, 13, 17]\n",
    "print(lista_primos)\n",
    "print(type(lista_primos))"
   ]
  },
  {
   "cell_type": "code",
   "execution_count": 31,
   "metadata": {},
   "outputs": [
    {
     "name": "stdout",
     "output_type": "stream",
     "text": [
      "1\n",
      "2\n"
     ]
    }
   ],
   "source": [
    "# Uma variável pode mudar de valor durante a execução do programa.\n",
    "\n",
    "i = 1 \n",
    "print(i)\n",
    "i = i +1\n",
    "print(i)\n"
   ]
  },
  {
   "cell_type": "code",
   "execution_count": 32,
   "metadata": {},
   "outputs": [
    {
     "name": "stdout",
     "output_type": "stream",
     "text": [
      "30\n"
     ]
    }
   ],
   "source": [
    "# O valor de uma variável pode ser atribuído com base nos valores de outras variáveis.\n",
    "x = 20\n",
    "y = 10\n",
    "z = x + y\n",
    "print(z)"
   ]
  },
  {
   "cell_type": "markdown",
   "metadata": {},
   "source": [
    "As variáveis melhoram a legibilidade dos processos"
   ]
  },
  {
   "cell_type": "code",
   "execution_count": 33,
   "metadata": {},
   "outputs": [
    {
     "data": {
      "text/plain": [
       "13000.0"
      ]
     },
     "execution_count": 33,
     "metadata": {},
     "output_type": "execute_result"
    }
   ],
   "source": [
    "#Calculo de imposto sem variáveis\n",
    "\n",
    "100000 * 0.13"
   ]
  },
  {
   "cell_type": "code",
   "execution_count": 34,
   "metadata": {},
   "outputs": [
    {
     "name": "stdout",
     "output_type": "stream",
     "text": [
      "13000.0\n"
     ]
    }
   ],
   "source": [
    "#Calculo de imposto de vendas com variáveis\n",
    "\n",
    "#Entrada\n",
    "preco_artigo = 100000\n",
    "taxa_imposto = 0.13\n",
    "\n",
    "#processo\n",
    "Venda_imposto = preco_artigo * taxa_imposto\n",
    "\n",
    "#Saida\n",
    "print(Venda_imposto)\n"
   ]
  },
  {
   "cell_type": "markdown",
   "metadata": {},
   "source": [
    "Exercicio - 1 \n",
    "\n",
    "Utiliza variáveis e faca um programa que converte graus celsius em Fahr3nheit\n",
    "\n"
   ]
  },
  {
   "cell_type": "code",
   "execution_count": 36,
   "metadata": {},
   "outputs": [
    {
     "name": "stdout",
     "output_type": "stream",
     "text": [
      "A temperatura é de 95.0\n"
     ]
    }
   ],
   "source": [
    "#Entrada\n",
    "tp = float(input(\"Insira a temperatura em Graus Celsius: \"))\n",
    "\n",
    "#Processo\n",
    "temp_fahr = tp * 9/5 + 32\n",
    "\n",
    "#Siada\n",
    "print(\"A temperatura é de {}\".format(temp_fahr))"
   ]
  },
  {
   "cell_type": "markdown",
   "metadata": {},
   "source": [
    "Exercicio - 2 Utilizar variáveis num programa que calcula o índice de massa corporal."
   ]
  },
  {
   "cell_type": "code",
   "execution_count": 39,
   "metadata": {},
   "outputs": [
    {
     "ename": "NameError",
     "evalue": "name 'Input' is not defined",
     "output_type": "error",
     "traceback": [
      "\u001b[1;31m---------------------------------------------------------------------------\u001b[0m",
      "\u001b[1;31mNameError\u001b[0m                                 Traceback (most recent call last)",
      "\u001b[1;32mc:\\Users\\endys\\PycharmProjects\\Curso_Python\\Didatica\\geo.ipynb Cell 18\u001b[0m in \u001b[0;36m<cell line: 4>\u001b[1;34m()\u001b[0m\n\u001b[0;32m      <a href='vscode-notebook-cell:/c%3A/Users/endys/PycharmProjects/Curso_Python/Didatica/geo.ipynb#ch0000026?line=0'>1</a>\u001b[0m \u001b[39m# Entrada\u001b[39;00m\n\u001b[1;32m----> <a href='vscode-notebook-cell:/c%3A/Users/endys/PycharmProjects/Curso_Python/Didatica/geo.ipynb#ch0000026?line=3'>4</a>\u001b[0m peso \u001b[39m=\u001b[39m \u001b[39mfloat\u001b[39m(Input(\u001b[39m\"\u001b[39m\u001b[39mQual é o seu peso? \u001b[39m\u001b[39m\"\u001b[39m))\n\u001b[0;32m      <a href='vscode-notebook-cell:/c%3A/Users/endys/PycharmProjects/Curso_Python/Didatica/geo.ipynb#ch0000026?line=4'>5</a>\u001b[0m altura \u001b[39m=\u001b[39m \u001b[39mfloat\u001b[39m(\u001b[39minput\u001b[39m(\u001b[39m\"\u001b[39m\u001b[39mQual é a sua altura? \u001b[39m\u001b[39m\"\u001b[39m))\n\u001b[0;32m      <a href='vscode-notebook-cell:/c%3A/Users/endys/PycharmProjects/Curso_Python/Didatica/geo.ipynb#ch0000026?line=6'>7</a>\u001b[0m \u001b[39m# Proceso\u001b[39;00m\n",
      "\u001b[1;31mNameError\u001b[0m: name 'Input' is not defined"
     ]
    }
   ],
   "source": [
    "# Entrada\n",
    "\n",
    "\n",
    "peso = float(input(\"Qual é o seu peso? \"))\n",
    "altura = float(input(\"Qual é a sua altura? \"))\n",
    "\n",
    "# Proceso\n",
    "\n",
    "imc = (peso / altura**2)\n",
    "\n",
    "# Salida\n",
    "\n",
    "print(imc)"
   ]
  }
 ],
 "metadata": {
  "kernelspec": {
   "display_name": "Python 3.9.7 ('base')",
   "language": "python",
   "name": "python3"
  },
  "language_info": {
   "codemirror_mode": {
    "name": "ipython",
    "version": 3
   },
   "file_extension": ".py",
   "mimetype": "text/x-python",
   "name": "python",
   "nbconvert_exporter": "python",
   "pygments_lexer": "ipython3",
   "version": "3.9.7"
  },
  "orig_nbformat": 4,
  "vscode": {
   "interpreter": {
    "hash": "bc0856dc73cb15b650ecb7793e511946532bf8e691b04060239e3c24bbd81152"
   }
  }
 },
 "nbformat": 4,
 "nbformat_minor": 2
}
