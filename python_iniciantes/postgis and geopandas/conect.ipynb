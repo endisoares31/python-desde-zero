{
 "cells": [
  {
   "cell_type": "code",
   "execution_count": 2,
   "metadata": {},
   "outputs": [],
   "source": [
    "import geopandas as gpd\n",
    "import psycopg2\n"
   ]
  },
  {
   "cell_type": "code",
   "execution_count": 32,
   "metadata": {},
   "outputs": [],
   "source": [
    "con = psycopg2.connect(\n",
    "    host=\"localhost\",\n",
    "    database=\"geocv\",\n",
    "    user=\"postgres\",\n",
    "    password=\"Internet89\")\n"
   ]
  },
  {
   "cell_type": "code",
   "execution_count": 35,
   "metadata": {},
   "outputs": [
    {
     "name": "stderr",
     "output_type": "stream",
     "text": [
      "c:\\Users\\endys\\anaconda3\\lib\\site-packages\\pandas\\io\\sql.py:761: UserWarning: pandas only support SQLAlchemy connectable(engine/connection) ordatabase string URI or sqlite3 DBAPI2 connectionother DBAPI2 objects are not tested, please consider using SQLAlchemy\n",
      "  warnings.warn(\n"
     ]
    }
   ],
   "source": [
    "\n",
    "sql = \"select * from limite_bairros_cidades\"\n",
    "df = gpd.GeoDataFrame.from_postgis(sql, con, geom_col='geom')"
   ]
  },
  {
   "cell_type": "code",
   "execution_count": 36,
   "metadata": {},
   "outputs": [
    {
     "data": {
      "text/html": [
       "<div>\n",
       "<style scoped>\n",
       "    .dataframe tbody tr th:only-of-type {\n",
       "        vertical-align: middle;\n",
       "    }\n",
       "\n",
       "    .dataframe tbody tr th {\n",
       "        vertical-align: top;\n",
       "    }\n",
       "\n",
       "    .dataframe thead th {\n",
       "        text-align: right;\n",
       "    }\n",
       "</style>\n",
       "<table border=\"1\" class=\"dataframe\">\n",
       "  <thead>\n",
       "    <tr style=\"text-align: right;\">\n",
       "      <th></th>\n",
       "      <th>idprim</th>\n",
       "      <th>geom</th>\n",
       "      <th>objectid</th>\n",
       "      <th>nom_freg</th>\n",
       "      <th>nom_ilha</th>\n",
       "      <th>cod_freg</th>\n",
       "      <th>cod_conc</th>\n",
       "      <th>cod_ilha</th>\n",
       "      <th>nom_conc</th>\n",
       "      <th>nt_ilha</th>\n",
       "      <th>...</th>\n",
       "      <th>nt_zcv</th>\n",
       "      <th>nt_lugba</th>\n",
       "      <th>categoria</th>\n",
       "      <th>nom_zvc</th>\n",
       "      <th>nom_lugba</th>\n",
       "      <th>shape_leng</th>\n",
       "      <th>shape_le_1</th>\n",
       "      <th>shape_area</th>\n",
       "      <th>fonte</th>\n",
       "      <th>url</th>\n",
       "    </tr>\n",
       "  </thead>\n",
       "  <tbody>\n",
       "    <tr>\n",
       "      <th>0</th>\n",
       "      <td>80</td>\n",
       "      <td>MULTIPOLYGON (((-24.34746 16.56125, -24.34728 ...</td>\n",
       "      <td>80</td>\n",
       "      <td>SAO FRANCISCO DE ASSIS</td>\n",
       "      <td>SAO NICOLAU</td>\n",
       "      <td>321.0</td>\n",
       "      <td>32.0</td>\n",
       "      <td>3.0</td>\n",
       "      <td>TARRAFAL DE SAO NICOLAU</td>\n",
       "      <td>SN</td>\n",
       "      <td>...</td>\n",
       "      <td>SN011C01</td>\n",
       "      <td>SN011C0117</td>\n",
       "      <td>C</td>\n",
       "      <td>Cidade do Tarrafal</td>\n",
       "      <td>Cacimba</td>\n",
       "      <td>171.37</td>\n",
       "      <td>171.37</td>\n",
       "      <td>171.37</td>\n",
       "      <td>IDECV-INGT</td>\n",
       "      <td>teste</td>\n",
       "    </tr>\n",
       "    <tr>\n",
       "      <th>1</th>\n",
       "      <td>6</td>\n",
       "      <td>MULTIPOLYGON (((-24.31309 15.02406, -24.31332 ...</td>\n",
       "      <td>6</td>\n",
       "      <td>NOSSA SENHORA DA AJUDA</td>\n",
       "      <td>FOGO</td>\n",
       "      <td>811.0</td>\n",
       "      <td>81.0</td>\n",
       "      <td>8.0</td>\n",
       "      <td>MOSTEIROS</td>\n",
       "      <td>FG</td>\n",
       "      <td>...</td>\n",
       "      <td>FG011C01</td>\n",
       "      <td>FG011C0115</td>\n",
       "      <td>C</td>\n",
       "      <td>Cidade de Igreja</td>\n",
       "      <td>Casa cutelo</td>\n",
       "      <td>8.92</td>\n",
       "      <td>8.92</td>\n",
       "      <td>8.92</td>\n",
       "      <td>IDECV-INGT</td>\n",
       "      <td>teste</td>\n",
       "    </tr>\n",
       "    <tr>\n",
       "      <th>2</th>\n",
       "      <td>3</td>\n",
       "      <td>MULTIPOLYGON (((-24.31526 15.02256, -24.31521 ...</td>\n",
       "      <td>3</td>\n",
       "      <td>NOSSA SENHORA DA AJUDA</td>\n",
       "      <td>FOGO</td>\n",
       "      <td>811.0</td>\n",
       "      <td>81.0</td>\n",
       "      <td>8.0</td>\n",
       "      <td>MOSTEIROS</td>\n",
       "      <td>FG</td>\n",
       "      <td>...</td>\n",
       "      <td>FG011C01</td>\n",
       "      <td>FG011C0118</td>\n",
       "      <td>C</td>\n",
       "      <td>Cidade de Igreja</td>\n",
       "      <td>Fonsaco</td>\n",
       "      <td>2.91</td>\n",
       "      <td>2.91</td>\n",
       "      <td>2.91</td>\n",
       "      <td>IDECV-INGT</td>\n",
       "      <td>teste</td>\n",
       "    </tr>\n",
       "    <tr>\n",
       "      <th>3</th>\n",
       "      <td>8</td>\n",
       "      <td>MULTIPOLYGON (((-24.31573 15.02584, -24.31530 ...</td>\n",
       "      <td>8</td>\n",
       "      <td>NOSSA SENHORA DA AJUDA</td>\n",
       "      <td>FOGO</td>\n",
       "      <td>811.0</td>\n",
       "      <td>81.0</td>\n",
       "      <td>8.0</td>\n",
       "      <td>MOSTEIROS</td>\n",
       "      <td>FG</td>\n",
       "      <td>...</td>\n",
       "      <td>FG011C01</td>\n",
       "      <td>FG011C0113</td>\n",
       "      <td>C</td>\n",
       "      <td>Cidade de Igreja</td>\n",
       "      <td>Degolado</td>\n",
       "      <td>2.57</td>\n",
       "      <td>2.57</td>\n",
       "      <td>2.57</td>\n",
       "      <td>IDECV-INGT</td>\n",
       "      <td>teste</td>\n",
       "    </tr>\n",
       "    <tr>\n",
       "      <th>4</th>\n",
       "      <td>9</td>\n",
       "      <td>MULTIPOLYGON (((-24.31640 15.02493, -24.31656 ...</td>\n",
       "      <td>9</td>\n",
       "      <td>NOSSA SENHORA DA AJUDA</td>\n",
       "      <td>FOGO</td>\n",
       "      <td>811.0</td>\n",
       "      <td>81.0</td>\n",
       "      <td>8.0</td>\n",
       "      <td>MOSTEIROS</td>\n",
       "      <td>FG</td>\n",
       "      <td>...</td>\n",
       "      <td>FG011C01</td>\n",
       "      <td>FG011C0112</td>\n",
       "      <td>C</td>\n",
       "      <td>Cidade de Igreja</td>\n",
       "      <td>Cutelo</td>\n",
       "      <td>2.83</td>\n",
       "      <td>2.83</td>\n",
       "      <td>2.83</td>\n",
       "      <td>IDECV-INGT</td>\n",
       "      <td>teste</td>\n",
       "    </tr>\n",
       "  </tbody>\n",
       "</table>\n",
       "<p>5 rows × 22 columns</p>\n",
       "</div>"
      ],
      "text/plain": [
       "   idprim                                               geom  objectid  \\\n",
       "0      80  MULTIPOLYGON (((-24.34746 16.56125, -24.34728 ...        80   \n",
       "1       6  MULTIPOLYGON (((-24.31309 15.02406, -24.31332 ...         6   \n",
       "2       3  MULTIPOLYGON (((-24.31526 15.02256, -24.31521 ...         3   \n",
       "3       8  MULTIPOLYGON (((-24.31573 15.02584, -24.31530 ...         8   \n",
       "4       9  MULTIPOLYGON (((-24.31640 15.02493, -24.31656 ...         9   \n",
       "\n",
       "                 nom_freg     nom_ilha  cod_freg  cod_conc  cod_ilha  \\\n",
       "0  SAO FRANCISCO DE ASSIS  SAO NICOLAU     321.0      32.0       3.0   \n",
       "1  NOSSA SENHORA DA AJUDA         FOGO     811.0      81.0       8.0   \n",
       "2  NOSSA SENHORA DA AJUDA         FOGO     811.0      81.0       8.0   \n",
       "3  NOSSA SENHORA DA AJUDA         FOGO     811.0      81.0       8.0   \n",
       "4  NOSSA SENHORA DA AJUDA         FOGO     811.0      81.0       8.0   \n",
       "\n",
       "                  nom_conc nt_ilha  ...    nt_zcv    nt_lugba categoria  \\\n",
       "0  TARRAFAL DE SAO NICOLAU      SN  ...  SN011C01  SN011C0117         C   \n",
       "1                MOSTEIROS      FG  ...  FG011C01  FG011C0115         C   \n",
       "2                MOSTEIROS      FG  ...  FG011C01  FG011C0118         C   \n",
       "3                MOSTEIROS      FG  ...  FG011C01  FG011C0113         C   \n",
       "4                MOSTEIROS      FG  ...  FG011C01  FG011C0112         C   \n",
       "\n",
       "              nom_zvc    nom_lugba shape_leng shape_le_1  shape_area  \\\n",
       "0  Cidade do Tarrafal      Cacimba     171.37     171.37      171.37   \n",
       "1    Cidade de Igreja  Casa cutelo       8.92       8.92        8.92   \n",
       "2    Cidade de Igreja      Fonsaco       2.91       2.91        2.91   \n",
       "3    Cidade de Igreja     Degolado       2.57       2.57        2.57   \n",
       "4    Cidade de Igreja       Cutelo       2.83       2.83        2.83   \n",
       "\n",
       "        fonte    url  \n",
       "0  IDECV-INGT  teste  \n",
       "1  IDECV-INGT  teste  \n",
       "2  IDECV-INGT  teste  \n",
       "3  IDECV-INGT  teste  \n",
       "4  IDECV-INGT  teste  \n",
       "\n",
       "[5 rows x 22 columns]"
      ]
     },
     "execution_count": 36,
     "metadata": {},
     "output_type": "execute_result"
    }
   ],
   "source": [
    "df.head()"
   ]
  },
  {
   "cell_type": "code",
   "execution_count": 39,
   "metadata": {},
   "outputs": [
    {
     "data": {
      "text/plain": [
       "<AxesSubplot:>"
      ]
     },
     "execution_count": 39,
     "metadata": {},
     "output_type": "execute_result"
    },
    {
     "data": {
      "image/png": "[encoded data removed]",
      "text/plain": [
       "<Figure size 432x288 with 1 Axes>"
      ]
     },
     "metadata": {
      "needs_background": "light"
     },
     "output_type": "display_data"
    }
   ],
   "source": [
    "df.plot()"
   ]
  }
 ],
 "metadata": {
  "kernelspec": {
   "display_name": "Python 3.9.7 ('base')",
   "language": "python",
   "name": "python3"
  },
  "language_info": {
   "codemirror_mode": {
    "name": "ipython",
    "version": 3
   },
   "file_extension": ".py",
   "mimetype": "text/x-python",
   "name": "python",
   "nbconvert_exporter": "python",
   "pygments_lexer": "ipython3",
   "version": "3.9.7"
  },
  "orig_nbformat": 4,
  "vscode": {
   "interpreter": {
    "hash": "bc0856dc73cb15b650ecb7793e511946532bf8e691b04060239e3c24bbd81152"
   }
  }
 },
 "nbformat": 4,
 "nbformat_minor": 2
}
