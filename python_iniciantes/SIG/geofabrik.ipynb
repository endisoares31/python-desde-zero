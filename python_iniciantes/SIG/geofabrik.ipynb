{
 "cells": [
  {
   "cell_type": "code",
   "execution_count": 18,
   "metadata": {},
   "outputs": [
    {
     "name": "stdout",
     "output_type": "stream",
     "text": [
      "All available OSM keys ['aerialway', 'aeroway', 'amenity', 'boundary', 'building', 'craft', 'emergency', 'geological', 'highway', 'historic', 'landuse', 'leisure', 'natural', 'office', 'power', 'public_transport', 'railway', 'route', 'place', 'shop', 'tourism', 'waterway']\n"
     ]
    }
   ],
   "source": [
    "from pyrosm.config import Conf\n",
    "print(\"All available OSM keys\", Conf.tags.available)\n"
   ]
  },
  {
   "cell_type": "code",
   "execution_count": 20,
   "metadata": {},
   "outputs": [
    {
     "name": "stdout",
     "output_type": "stream",
     "text": [
      "Typical tags associated with public_transport: ['addr:city', 'addr:country', 'addr:full', 'addr:housenumber', 'addr:housename', 'addr:postcode', 'addr:place', 'addr:street', 'email', 'name', 'opening_hours', 'operator', 'phone', 'ref', 'url', 'website', 'yes', 'stop_position', 'platform', 'public_transport', 'station', 'stop_area']\n"
     ]
    }
   ],
   "source": [
    "print(\"Typical tags associated with public_transport:\", Conf.tags.public_transport)"
   ]
  }
 ],
 "metadata": {
  "kernelspec": {
   "display_name": "Python 3.9.7 ('base')",
   "language": "python",
   "name": "python3"
  },
  "language_info": {
   "codemirror_mode": {
    "name": "ipython",
    "version": 3
   },
   "file_extension": ".py",
   "mimetype": "text/x-python",
   "name": "python",
   "nbconvert_exporter": "python",
   "pygments_lexer": "ipython3",
   "version": "3.9.7"
  },
  "orig_nbformat": 4,
  "vscode": {
   "interpreter": {
    "hash": "bc0856dc73cb15b650ecb7793e511946532bf8e691b04060239e3c24bbd81152"
   }
  }
 },
 "nbformat": 4,
 "nbformat_minor": 2
}
