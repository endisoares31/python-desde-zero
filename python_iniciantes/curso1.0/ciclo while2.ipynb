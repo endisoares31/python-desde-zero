{
 "cells": [
  {
   "cell_type": "code",
   "execution_count": 1,
   "metadata": {},
   "outputs": [],
   "source": [
    "# soma de numero sucessivos\n",
    "# som = 1 + 2 + 3 + 4...+1000\n",
    "\n",
    "n = int(input(\"Inserir um numero inteiro: \"))\n",
    "\n",
    "sum = 0\n",
    "\n",
    "i = 1 \n",
    "while i < n: # True\n",
    "    sum = sum + i # = 0 + 1\n",
    "\n",
    "    i = i + 1  \n",
    "\n",
    "\n"
   ]
  }
 ],
 "metadata": {
  "kernelspec": {
   "display_name": "Python 3.9.7 ('base')",
   "language": "python",
   "name": "python3"
  },
  "language_info": {
   "codemirror_mode": {
    "name": "ipython",
    "version": 3
   },
   "file_extension": ".py",
   "mimetype": "text/x-python",
   "name": "python",
   "nbconvert_exporter": "python",
   "pygments_lexer": "ipython3",
   "version": "3.9.7"
  },
  "orig_nbformat": 4,
  "vscode": {
   "interpreter": {
    "hash": "bc0856dc73cb15b650ecb7793e511946532bf8e691b04060239e3c24bbd81152"
   }
  }
 },
 "nbformat": 4,
 "nbformat_minor": 2
}
