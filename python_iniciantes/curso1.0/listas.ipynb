{
 "cells": [
  {
   "cell_type": "code",
   "execution_count": 24,
   "metadata": {},
   "outputs": [
    {
     "name": "stdout",
     "output_type": "stream",
     "text": [
      "<class 'list'> <class 'int'> <class 'str'>\n",
      "[1, 2, 3]\n"
     ]
    }
   ],
   "source": [
    "lista_num = [1, 2, 3]\n",
    "\n",
    "\n",
    "lista_float = [3.14, 2.58, 9.01]\n",
    "\n",
    "lista_let = [\"Hugo\", \"Paco\", \"Luis\"]\n",
    "\n",
    "list_comb = [\"dos\", 78, 3.1416, ]\n",
    "\n",
    "list_one = [10]\n",
    "x = 10\n",
    "s = \"10\"\n",
    "\n",
    "print(type(list_one), type(x), type(s))\n",
    "\n",
    "t = [1, 2, 3, 4, 5, 6, 7, 8, 9]\n",
    "\n",
    "t [0 : 3] = [0, 0, 0]\n",
    "\n",
    "t \n",
    "\n",
    "t = [1, 2, 3, 4, 5, 6, 7, 8, 9]\n",
    "\n",
    "t.append(10)\n",
    "t\n",
    "\n",
    "t1 = [1, 2, 3,]\n",
    "t2 = [4, 5, 6]\n",
    "print(t1) \n",
    "t1.extend(t2)"
   ]
  }
 ],
 "metadata": {
  "kernelspec": {
   "display_name": "Python 3.9.7 ('base')",
   "language": "python",
   "name": "python3"
  },
  "language_info": {
   "codemirror_mode": {
    "name": "ipython",
    "version": 3
   },
   "file_extension": ".py",
   "mimetype": "text/x-python",
   "name": "python",
   "nbconvert_exporter": "python",
   "pygments_lexer": "ipython3",
   "version": "3.9.7"
  },
  "orig_nbformat": 4,
  "vscode": {
   "interpreter": {
    "hash": "bc0856dc73cb15b650ecb7793e511946532bf8e691b04060239e3c24bbd81152"
   }
  }
 },
 "nbformat": 4,
 "nbformat_minor": 2
}
