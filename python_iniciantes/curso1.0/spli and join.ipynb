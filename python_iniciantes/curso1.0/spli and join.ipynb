{
 "cells": [
  {
   "cell_type": "code",
   "execution_count": 7,
   "metadata": {},
   "outputs": [
    {
     "name": "stdout",
     "output_type": "stream",
     "text": [
      "['olá', ' meu nome é Endi', ' tenho 33 anos de idade']\n"
     ]
    }
   ],
   "source": [
    "#split\n",
    "\n",
    "x = \"Welcome to the Jungle\"\n",
    "x_plit = x.split()\n",
    "#print(x_plit)\n",
    "\n",
    "y = \"olá, meu nome é Endi, tenho 33 anos de idade\"\n",
    "\n",
    "y_split = y.split(\",\")\n",
    "\n",
    "print(y_split)\n"
   ]
  },
  {
   "cell_type": "code",
   "execution_count": 18,
   "metadata": {},
   "outputs": [
    {
     "data": {
      "text/plain": [
       "'Roxo Verde Azul'"
      ]
     },
     "execution_count": 18,
     "metadata": {},
     "output_type": "execute_result"
    }
   ],
   "source": [
    "#Join\n",
    "\n",
    "y = [\"Roxo\", \"Verde\", \"Azul\"]\n",
    "\n",
    "z = \" \".join(y)\n",
    "z"
   ]
  }
 ],
 "metadata": {
  "kernelspec": {
   "display_name": "Python 3.9.7 ('base')",
   "language": "python",
   "name": "python3"
  },
  "language_info": {
   "codemirror_mode": {
    "name": "ipython",
    "version": 3
   },
   "file_extension": ".py",
   "mimetype": "text/x-python",
   "name": "python",
   "nbconvert_exporter": "python",
   "pygments_lexer": "ipython3",
   "version": "3.9.7"
  },
  "orig_nbformat": 4,
  "vscode": {
   "interpreter": {
    "hash": "bc0856dc73cb15b650ecb7793e511946532bf8e691b04060239e3c24bbd81152"
   }
  }
 },
 "nbformat": 4,
 "nbformat_minor": 2
}
