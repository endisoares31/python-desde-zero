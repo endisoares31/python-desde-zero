{
 "cells": [
  {
   "cell_type": "code",
   "execution_count": 17,
   "metadata": {},
   "outputs": [
    {
     "data": {
      "text/plain": [
       "False"
      ]
     },
     "execution_count": 17,
     "metadata": {},
     "output_type": "execute_result"
    }
   ],
   "source": [
    "#operadores boleanos\n",
    "x = 5 \n",
    "y = 6\n",
    "\n",
    "x == y \n",
    "x != y \n",
    "x > y \n",
    "x < y \n",
    "x >= y \n",
    "x <= y \n",
    "x = True \n",
    "y = False \n",
    "\n",
    "x \n",
    "y \n",
    "\n",
    "#print(type(x))\n",
    "#print(type(y))\n",
    "\n",
    "x is True\n",
    "\n",
    "x is not True\n",
    "\n",
    "\n"
   ]
  },
  {
   "cell_type": "markdown",
   "metadata": {},
   "source": [
    "Operadores Logicos"
   ]
  },
  {
   "cell_type": "code",
   "execution_count": 22,
   "metadata": {},
   "outputs": [
    {
     "name": "stdout",
     "output_type": "stream",
     "text": [
      "True\n"
     ]
    }
   ],
   "source": [
    "x = 2\n",
    "x > 0 and x < 10 \n",
    "\n",
    "x = 2\n",
    "y = 3\n",
    "z = 4\n",
    "\n",
    "x == y or z > 3 \n",
    "\n",
    "x = True\n",
    "y = False\n",
    "z = True \n",
    "\n",
    "r = (x and y ) or (z)\n",
    "print(r)\n",
    "\n",
    "\n"
   ]
  }
 ],
 "metadata": {
  "kernelspec": {
   "display_name": "Python 3.9.7 ('base')",
   "language": "python",
   "name": "python3"
  },
  "language_info": {
   "codemirror_mode": {
    "name": "ipython",
    "version": 3
   },
   "file_extension": ".py",
   "mimetype": "text/x-python",
   "name": "python",
   "nbconvert_exporter": "python",
   "pygments_lexer": "ipython3",
   "version": "3.9.7"
  },
  "orig_nbformat": 4,
  "vscode": {
   "interpreter": {
    "hash": "bc0856dc73cb15b650ecb7793e511946532bf8e691b04060239e3c24bbd81152"
   }
  }
 },
 "nbformat": 4,
 "nbformat_minor": 2
}
