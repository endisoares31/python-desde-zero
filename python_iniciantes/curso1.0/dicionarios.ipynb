{
 "cells": [
  {
   "cell_type": "code",
   "execution_count": 1,
   "metadata": {},
   "outputs": [
    {
     "data": {
      "text/plain": [
       "dict"
      ]
     },
     "execution_count": 1,
     "metadata": {},
     "output_type": "execute_result"
    }
   ],
   "source": [
    "grades = {\"hugo\":10,\"Paco\":8.5, \"Luis\":9.1}\n",
    "type(grades)\n",
    "\n"
   ]
  },
  {
   "cell_type": "code",
   "execution_count": 2,
   "metadata": {},
   "outputs": [
    {
     "name": "stdout",
     "output_type": "stream",
     "text": [
      "{'hugo': 10, 'Paco': 8.5, 'Luis': 9.1, 'Pepe': 7.2}\n"
     ]
    }
   ],
   "source": [
    "grades[\"Pepe\"] = 7.2\n",
    "\n",
    "print(grades)"
   ]
  },
  {
   "cell_type": "code",
   "execution_count": 4,
   "metadata": {},
   "outputs": [
    {
     "name": "stdout",
     "output_type": "stream",
     "text": [
      "{'hugo': 10, 'Paco': 8.5, 'Luis': 9.1, 'Pepe': 10}\n"
     ]
    }
   ],
   "source": [
    "grades[\"Pepe\"]=10\n",
    "\n",
    "print(grades)"
   ]
  },
  {
   "cell_type": "code",
   "execution_count": 10,
   "metadata": {},
   "outputs": [
    {
     "name": "stdout",
     "output_type": "stream",
     "text": [
      "{'hugo': 6, 'Paco': 8.5, 'Luis': 9.1, 'Pepe': 10}\n"
     ]
    }
   ],
   "source": [
    "grades['hugo'] = grades['hugo'] - 2\n",
    "print(grades)"
   ]
  }
 ],
 "metadata": {
  "kernelspec": {
   "display_name": "Python 3.9.7 ('base')",
   "language": "python",
   "name": "python3"
  },
  "language_info": {
   "codemirror_mode": {
    "name": "ipython",
    "version": 3
   },
   "file_extension": ".py",
   "mimetype": "text/x-python",
   "name": "python",
   "nbconvert_exporter": "python",
   "pygments_lexer": "ipython3",
   "version": "3.9.7"
  },
  "orig_nbformat": 4,
  "vscode": {
   "interpreter": {
    "hash": "bc0856dc73cb15b650ecb7793e511946532bf8e691b04060239e3c24bbd81152"
   }
  }
 },
 "nbformat": 4,
 "nbformat_minor": 2
}
