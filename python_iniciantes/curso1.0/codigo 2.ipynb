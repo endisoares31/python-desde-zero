{
 "cells": [
  {
   "cell_type": "code",
   "execution_count": 1,
   "metadata": {},
   "outputs": [
    {
     "data": {
      "text/plain": [
       "1.2968395546510096"
      ]
     },
     "execution_count": 1,
     "metadata": {},
     "output_type": "execute_result"
    }
   ],
   "source": [
    "#soma\n",
    "4 + 5\n",
    "\n",
    "#Resto\n",
    "8 - 4\n",
    "\n",
    "#Multiplicacao\n",
    "5 * 3\n",
    "\n",
    "#Devisao\n",
    "16 / 8\n",
    "\n",
    "#Potencia\n",
    "5 ** 2\n",
    "\n",
    "#Raiz\n",
    "\n",
    "25**(1/2)\n",
    "\n",
    "2 ** 2\n",
    "\n",
    "8 ** (1/8)\n",
    "\n",
    "#opecacaoes com sinal de agrupamento\n",
    "(5/2 + 1) * (2 ** 3)\n",
    "\n",
    "x = 2\n",
    "y = 3\n"
   ]
  }
 ],
 "metadata": {
  "kernelspec": {
   "display_name": "Python 3.9.7 ('base')",
   "language": "python",
   "name": "python3"
  },
  "language_info": {
   "codemirror_mode": {
    "name": "ipython",
    "version": 3
   },
   "file_extension": ".py",
   "mimetype": "text/x-python",
   "name": "python",
   "nbconvert_exporter": "python",
   "pygments_lexer": "ipython3",
   "version": "3.9.7"
  },
  "orig_nbformat": 4,
  "vscode": {
   "interpreter": {
    "hash": "bc0856dc73cb15b650ecb7793e511946532bf8e691b04060239e3c24bbd81152"
   }
  }
 },
 "nbformat": 4,
 "nbformat_minor": 2
}
