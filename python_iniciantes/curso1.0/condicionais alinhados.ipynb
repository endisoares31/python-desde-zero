{
 "cells": [
  {
   "cell_type": "code",
   "execution_count": 3,
   "metadata": {},
   "outputs": [
    {
     "name": "stdout",
     "output_type": "stream",
     "text": [
      "x é maior que y\n"
     ]
    }
   ],
   "source": [
    "x = 10 \n",
    "y = 2\n",
    "\n",
    "if x < y: # Falso \n",
    "    print(\"x é menor que y\")\n",
    "else:\n",
    "    if x > y:\n",
    "        print(\"x é maior que y\")\n",
    "    else:\n",
    "        print( \"x e y são iguais\")"
   ]
  },
  {
   "cell_type": "code",
   "execution_count": 7,
   "metadata": {},
   "outputs": [
    {
     "name": "stdout",
     "output_type": "stream",
     "text": [
      "x é menor que y\n"
     ]
    }
   ],
   "source": [
    "x = 11\n",
    "y = 12\n",
    "\n",
    "if x < y:\n",
    "    print(\"x é menor que y\")\n",
    "elif x > y:\n",
    "    print(\"x é maior que y\")\n",
    "else:\n",
    "    print(\"x e y são iguais\")"
   ]
  }
 ],
 "metadata": {
  "kernelspec": {
   "display_name": "Python 3.9.7 ('base')",
   "language": "python",
   "name": "python3"
  },
  "language_info": {
   "codemirror_mode": {
    "name": "ipython",
    "version": 3
   },
   "file_extension": ".py",
   "mimetype": "text/x-python",
   "name": "python",
   "nbconvert_exporter": "python",
   "pygments_lexer": "ipython3",
   "version": "3.9.7"
  },
  "orig_nbformat": 4,
  "vscode": {
   "interpreter": {
    "hash": "bc0856dc73cb15b650ecb7793e511946532bf8e691b04060239e3c24bbd81152"
   }
  }
 },
 "nbformat": 4,
 "nbformat_minor": 2
}
