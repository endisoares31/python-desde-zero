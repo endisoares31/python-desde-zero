{
 "cells": [
  {
   "cell_type": "code",
   "execution_count": 6,
   "metadata": {},
   "outputs": [
    {
     "name": "stdout",
     "output_type": "stream",
     "text": [
      "[1, 2, 3, 4]\n"
     ]
    }
   ],
   "source": [
    "#Concatenacao\n",
    "\n",
    "x = [1, 2]\n",
    "y = [3, 4]\n",
    "\n",
    "z = x + y \n",
    "\n",
    "print(z)\n"
   ]
  },
  {
   "cell_type": "code",
   "execution_count": 10,
   "metadata": {},
   "outputs": [
    {
     "name": "stdout",
     "output_type": "stream",
     "text": [
      "['Hugo', 'Samuel', 'Vany', 1, 2]\n"
     ]
    }
   ],
   "source": [
    "\n",
    "nomes = [\"Hugo\",\"Samuel\", \"Vany\"]\n",
    "nomes = nomes + x \n",
    "\n",
    "print(nomes)\n"
   ]
  },
  {
   "cell_type": "code",
   "execution_count": 17,
   "metadata": {},
   "outputs": [
    {
     "name": "stdout",
     "output_type": "stream",
     "text": [
      "['Hugo', 'Samuel', 'Vany', 1, 2, 0, 1, 'Hugo', 'Samuel', 'Vany', 1, 2, 0, 1, 'Hugo', 'Samuel', 'Vany', 1, 2, 0, 1, 'Hugo', 'Samuel', 'Vany', 1, 2, 0, 1]\n"
     ]
    }
   ],
   "source": [
    "#Repiticao\n",
    "\n",
    "x = [0, 1]\n",
    "y = (nomes + x) * 4 \n",
    "\n",
    "print(y)"
   ]
  },
  {
   "cell_type": "code",
   "execution_count": 22,
   "metadata": {},
   "outputs": [
    {
     "name": "stdout",
     "output_type": "stream",
     "text": [
      "Meu nome é:\n",
      "Chavier\n",
      "Meu nome é: Chavier\n"
     ]
    },
    {
     "data": {
      "text/plain": [
       "'Chavier Chavier Chavier '"
      ]
     },
     "execution_count": 22,
     "metadata": {},
     "output_type": "execute_result"
    }
   ],
   "source": [
    "texto1 = \"Meu nome é:\"\n",
    "\n",
    "print(texto1)\n",
    "\n",
    "texto2 = \"Chavier\"\n",
    "print(texto2)\n",
    "texto3 = texto1 + \" \"+ texto2\n",
    "\n",
    "print(texto3)\n",
    "\n",
    "(texto2 + \" \" ) * 3"
   ]
  }
 ],
 "metadata": {
  "kernelspec": {
   "display_name": "Python 3.9.7 ('base')",
   "language": "python",
   "name": "python3"
  },
  "language_info": {
   "codemirror_mode": {
    "name": "ipython",
    "version": 3
   },
   "file_extension": ".py",
   "mimetype": "text/x-python",
   "name": "python",
   "nbconvert_exporter": "python",
   "pygments_lexer": "ipython3",
   "version": "3.9.7"
  },
  "orig_nbformat": 4,
  "vscode": {
   "interpreter": {
    "hash": "bc0856dc73cb15b650ecb7793e511946532bf8e691b04060239e3c24bbd81152"
   }
  }
 },
 "nbformat": 4,
 "nbformat_minor": 2
}
