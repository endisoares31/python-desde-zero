{
 "cells": [
  {
   "cell_type": "code",
   "execution_count": 11,
   "metadata": {},
   "outputs": [
    {
     "name": "stdout",
     "output_type": "stream",
     "text": [
      "X é negativo\n"
     ]
    }
   ],
   "source": [
    "x = -2\n",
    "if x >= 0: # False\n",
    "    print('X é positivo')\n",
    "else: \n",
    "    print (\"X é negativo\")\n"
   ]
  },
  {
   "cell_type": "code",
   "execution_count": 17,
   "metadata": {},
   "outputs": [
    {
     "name": "stdout",
     "output_type": "stream",
     "text": [
      "X é maior que Y\n"
     ]
    }
   ],
   "source": [
    "x = 1\n",
    "y = 0\n",
    "# elif\n",
    "\n",
    "if x < y:\n",
    "    print(\"X é menor que Y\")\n",
    "elif x > y:\n",
    "    print (\"X é maior que Y\")\n",
    "else:\n",
    "    print(\" x e Y sao iguais\")"
   ]
  }
 ],
 "metadata": {
  "kernelspec": {
   "display_name": "Python 3.9.7 ('base')",
   "language": "python",
   "name": "python3"
  },
  "language_info": {
   "codemirror_mode": {
    "name": "ipython",
    "version": 3
   },
   "file_extension": ".py",
   "mimetype": "text/x-python",
   "name": "python",
   "nbconvert_exporter": "python",
   "pygments_lexer": "ipython3",
   "version": "3.9.7"
  },
  "orig_nbformat": 4,
  "vscode": {
   "interpreter": {
    "hash": "bc0856dc73cb15b650ecb7793e511946532bf8e691b04060239e3c24bbd81152"
   }
  }
 },
 "nbformat": 4,
 "nbformat_minor": 2
}
