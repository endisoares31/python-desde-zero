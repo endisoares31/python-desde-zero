{
  "cells": [
    {
      "cell_type": "code",
      "execution_count": 21,
      "metadata": {
        "id": "NkyF7hifb89N",
        "outputId": "e442f827-6517-4503-f53f-9bcf110a86dd",
        "colab": {
          "base_uri": "https://localhost:8080/"
        }
      },
      "outputs": [
        {
          "output_type": "stream",
          "name": "stdout",
          "text": [
            "Em que ano nasceste? 1989\n",
            "33\n"
          ]
        }
      ],
      "source": [
        "Ano = input(\"Em que ano nasceste? \")\n",
        "\n",
        "Ano = int(Ano)\n",
        "idade = 2022 - Ano \n",
        "\n",
        "\n",
        "print(idade)"
      ]
    }
  ],
  "metadata": {
    "kernelspec": {
      "display_name": "Python 3.9.7 ('base')",
      "language": "python",
      "name": "python3"
    },
    "language_info": {
      "codemirror_mode": {
        "name": "ipython",
        "version": 3
      },
      "file_extension": ".py",
      "mimetype": "text/x-python",
      "name": "python",
      "nbconvert_exporter": "python",
      "pygments_lexer": "ipython3",
      "version": "3.9.7"
    },
    "orig_nbformat": 4,
    "vscode": {
      "interpreter": {
        "hash": "bc0856dc73cb15b650ecb7793e511946532bf8e691b04060239e3c24bbd81152"
      }
    },
    "colab": {
      "name": "fucoes.ipynb",
      "provenance": []
    }
  },
  "nbformat": 4,
  "nbformat_minor": 0
}