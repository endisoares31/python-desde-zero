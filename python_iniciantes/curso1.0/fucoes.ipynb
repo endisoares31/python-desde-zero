{
 "cells": [
  {
   "cell_type": "code",
   "execution_count": 31,
   "metadata": {},
   "outputs": [
    {
     "name": "stdout",
     "output_type": "stream",
     "text": [
      "Olá Mundo!\n"
     ]
    },
    {
     "ename": "TypeError",
     "evalue": "can only concatenate str (not \"int\") to str",
     "output_type": "error",
     "traceback": [
      "\u001b[1;31m---------------------------------------------------------------------------\u001b[0m",
      "\u001b[1;31mTypeError\u001b[0m                                 Traceback (most recent call last)",
      "\u001b[1;32mc:\\Users\\endys\\PycharmProjects\\Curso_Python\\python_iniciantes\\curso1.0\\fucoes.ipynb Cell 1\u001b[0m in \u001b[0;36m<cell line: 25>\u001b[1;34m()\u001b[0m\n\u001b[0;32m     <a href='vscode-notebook-cell:/c%3A/Users/endys/PycharmProjects/Curso_Python/python_iniciantes/curso1.0/fucoes.ipynb#ch0000000?line=21'>22</a>\u001b[0m idade \u001b[39m=\u001b[39m \u001b[39m2022\u001b[39m \u001b[39m-\u001b[39m Ano \n\u001b[0;32m     <a href='vscode-notebook-cell:/c%3A/Users/endys/PycharmProjects/Curso_Python/python_iniciantes/curso1.0/fucoes.ipynb#ch0000000?line=22'>23</a>\u001b[0m mensagem \u001b[39m=\u001b[39m \u001b[39m\"\u001b[39m\u001b[39mvoce tem \u001b[39m\u001b[39m\"\u001b[39m\n\u001b[1;32m---> <a href='vscode-notebook-cell:/c%3A/Users/endys/PycharmProjects/Curso_Python/python_iniciantes/curso1.0/fucoes.ipynb#ch0000000?line=24'>25</a>\u001b[0m \u001b[39mprint\u001b[39m( \u001b[39m'\u001b[39;49m\u001b[39mmensagem\u001b[39;49m\u001b[39m'\u001b[39;49m \u001b[39m+\u001b[39;49m idade)\n",
      "\u001b[1;31mTypeError\u001b[0m: can only concatenate str (not \"int\") to str"
     ]
    }
   ],
   "source": [
    "# Olá Mundo\n",
    "print(\"Olá Mundo!\")\n",
    "\n",
    "x = 5\n",
    "\n",
    "y = 3.1416\n",
    "\n",
    "z = \"Minha idade é: \"\n",
    "\n",
    "#print(z, x)\n",
    "\n",
    "#type(z)\n",
    "\n",
    "#y = int(y)\n",
    "\n",
    "x = float(x)\n",
    "\n",
    "\n",
    "Ano = input(\"Em que ano nasceste? \")\n",
    "\n",
    "Ano = int(Ano)\n",
    "idade = 2022 - Ano \n",
    "\n",
    "\n",
    "print(idade)\n",
    "\n",
    "\n",
    "\n",
    "\n",
    "\n",
    "\n"
   ]
  }
 ],
 "metadata": {
  "kernelspec": {
   "display_name": "Python 3.9.7 ('base')",
   "language": "python",
   "name": "python3"
  },
  "language_info": {
   "codemirror_mode": {
    "name": "ipython",
    "version": 3
   },
   "file_extension": ".py",
   "mimetype": "text/x-python",
   "name": "python",
   "nbconvert_exporter": "python",
   "pygments_lexer": "ipython3",
   "version": "3.9.7"
  },
  "orig_nbformat": 4,
  "vscode": {
   "interpreter": {
    "hash": "bc0856dc73cb15b650ecb7793e511946532bf8e691b04060239e3c24bbd81152"
   }
  }
 },
 "nbformat": 4,
 "nbformat_minor": 2
}
