{
 "cells": [
  {
   "cell_type": "code",
   "execution_count": 2,
   "metadata": {},
   "outputs": [
    {
     "name": "stdout",
     "output_type": "stream",
     "text": [
      "<module 'math' (built-in)>\n"
     ]
    }
   ],
   "source": [
    "import math\n",
    "print(math)\n"
   ]
  },
  {
   "cell_type": "code",
   "execution_count": 10,
   "metadata": {},
   "outputs": [
    {
     "data": {
      "text/plain": [
       "0.7071067811865476"
      ]
     },
     "execution_count": 10,
     "metadata": {},
     "output_type": "execute_result"
    }
   ],
   "source": [
    "graus = 45\n",
    "radianos = graus / 360.0 * 2 * math.pi\n",
    " \n",
    "\n",
    "math.sqrt(2)/2"
   ]
  },
  {
   "cell_type": "code",
   "execution_count": 17,
   "metadata": {},
   "outputs": [
    {
     "name": "stdout",
     "output_type": "stream",
     "text": [
      "0.4587645319757876\n",
      "0.5973617904479108\n",
      "0.4312952156414188\n",
      "0.6406542330695528\n",
      "0.47981953900074004\n",
      "0.323214620262827\n",
      "0.9432527043691441\n",
      "0.2460220254173504\n",
      "0.3938437972897134\n",
      "0.02111491068260407\n"
     ]
    }
   ],
   "source": [
    "#numero alertorios\n",
    "import random\n",
    "for i in range(10):\n",
    "    x = random.random()\n",
    "    print(x)\n"
   ]
  },
  {
   "cell_type": "code",
   "execution_count": 28,
   "metadata": {},
   "outputs": [
    {
     "data": {
      "text/plain": [
       "6"
      ]
     },
     "execution_count": 28,
     "metadata": {},
     "output_type": "execute_result"
    }
   ],
   "source": [
    "#Escolhe um numero alertorio \n",
    "\n",
    "random.randint(5 ,10)"
   ]
  },
  {
   "cell_type": "code",
   "execution_count": 36,
   "metadata": {},
   "outputs": [
    {
     "data": {
      "text/plain": [
       "3"
      ]
     },
     "execution_count": 36,
     "metadata": {},
     "output_type": "execute_result"
    }
   ],
   "source": [
    "#Escolher um elemento de uma sequência aleatoriamente\n",
    "\n",
    "t = [1, 2, 3]\n",
    "random.choice(t)"
   ]
  },
  {
   "cell_type": "code",
   "execution_count": 40,
   "metadata": {},
   "outputs": [
    {
     "name": "stdout",
     "output_type": "stream",
     "text": [
      "<class 'function'>\n",
      "Eu sou um lenhador, e estou bem.\n",
      "Eu dormo a noite toda e trabalho o dia todo\n"
     ]
    }
   ],
   "source": [
    "def print_LetraDeMusica():\n",
    "    print(\"Eu sou um lenhador, e estou bem.\")\n",
    "    print (\"Eu dormo a noite toda e trabalho o dia todo\")\n",
    "print(type(print_LetraDeMusica))\n",
    "\n",
    "print_LetraDeMusica()"
   ]
  },
  {
   "cell_type": "code",
   "execution_count": 48,
   "metadata": {},
   "outputs": [
    {
     "name": "stdout",
     "output_type": "stream",
     "text": [
      "8\n",
      "8\n"
     ]
    }
   ],
   "source": [
    "def soma_dois(a,b):\n",
    "    soma = a + b\n",
    "    return soma\n",
    "\n",
    "x = soma_dois(3, 5)\n",
    "print(x)\n",
    "\n",
    "def addtwo (a, b):\n",
    "    added = a + b \n",
    "    return added\n",
    "\n",
    "x = addtwo(3 ,5)\n",
    "print(x)"
   ]
  }
 ],
 "metadata": {
  "kernelspec": {
   "display_name": "Python 3.9.7 ('base')",
   "language": "python",
   "name": "python3"
  },
  "language_info": {
   "codemirror_mode": {
    "name": "ipython",
    "version": 3
   },
   "file_extension": ".py",
   "mimetype": "text/x-python",
   "name": "python",
   "nbconvert_exporter": "python",
   "pygments_lexer": "ipython3",
   "version": "3.9.7"
  },
  "orig_nbformat": 4,
  "vscode": {
   "interpreter": {
    "hash": "bc0856dc73cb15b650ecb7793e511946532bf8e691b04060239e3c24bbd81152"
   }
  }
 },
 "nbformat": 4,
 "nbformat_minor": 2
}
