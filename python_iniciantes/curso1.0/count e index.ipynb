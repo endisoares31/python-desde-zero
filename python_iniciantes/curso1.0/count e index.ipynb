{
 "cells": [
  {
   "cell_type": "code",
   "execution_count": 8,
   "metadata": {},
   "outputs": [
    {
     "name": "stdout",
     "output_type": "stream",
     "text": [
      "a:  2\n",
      "a:  2\n",
      "dia:  1\n",
      "e:  3\n"
     ]
    }
   ],
   "source": [
    "#string\n",
    "a = \"O dia de hoje esta com muito sol\"\n",
    "\n",
    "print(\"a: \", a.count(\"a\"))\n",
    "print(\"a: \", a.count(\"a \"))\n",
    "print(\"dia: \", a.count(\"dia\"))\n",
    "print(\"e: \", a.count(\"e\"))"
   ]
  },
  {
   "cell_type": "code",
   "execution_count": 20,
   "metadata": {},
   "outputs": [
    {
     "name": "stdout",
     "output_type": "stream",
     "text": [
      "O DIA DE HOJE ESTA COM MUITO SOL\n",
      "o dia de hoje esta com muito sol\n",
      "e:  3\n"
     ]
    }
   ],
   "source": [
    "a = \"O DIA DE HOJE ESTA COM MUITO SOL\"\n",
    "print(a)\n",
    "\n",
    "a_minusculas = a.lower()\n",
    "print(a_minusculas)\n",
    "print(\"e: \", a_minusculas.count(\"e\"))\n"
   ]
  },
  {
   "cell_type": "code",
   "execution_count": 26,
   "metadata": {},
   "outputs": [
    {
     "name": "stdout",
     "output_type": "stream",
     "text": [
      "O DIA DE HOJE ESTA COM MUITO SOL\n"
     ]
    }
   ],
   "source": [
    "a = \"O DIA DE HOJE ESTA COM MUITO SOL\"\n",
    "\n",
    "a_maisculas = a.upper()\n",
    "print(a_maisculas)"
   ]
  },
  {
   "cell_type": "code",
   "execution_count": 33,
   "metadata": {},
   "outputs": [
    {
     "name": "stdout",
     "output_type": "stream",
     "text": [
      "2\n",
      "0\n",
      "2\n"
     ]
    }
   ],
   "source": [
    "# Listas\n",
    "\n",
    "z = [\"atomo\", 4, \"neutron\", 6, \"proton\", 4, \"eletron\", \"atomo\",\"eletron\"]\n",
    "print(z.count(4))\n",
    "print(z.count(\"4\"))\n",
    "print(z.count(\"eletron\"))"
   ]
  },
  {
   "cell_type": "code",
   "execution_count": 39,
   "metadata": {},
   "outputs": [
    {
     "name": "stdout",
     "output_type": "stream",
     "text": [
      "14\n",
      "2\n",
      "3\n"
     ]
    },
    {
     "ename": "ValueError",
     "evalue": "3.1416 is not in list",
     "output_type": "error",
     "traceback": [
      "\u001b[1;31m---------------------------------------------------------------------------\u001b[0m",
      "\u001b[1;31mValueError\u001b[0m                                Traceback (most recent call last)",
      "\u001b[1;32mc:\\Users\\endys\\PycharmProjects\\Curso_Python\\python_iniciantes\\curso1.0\\count e index.ipynb Cell 5\u001b[0m in \u001b[0;36m<cell line: 8>\u001b[1;34m()\u001b[0m\n\u001b[0;32m      <a href='vscode-notebook-cell:/c%3A/Users/endys/PycharmProjects/Curso_Python/python_iniciantes/curso1.0/count%20e%20index.ipynb#ch0000006?line=5'>6</a>\u001b[0m \u001b[39mprint\u001b[39m(bio\u001b[39m.\u001b[39mindex(\u001b[39m\"\u001b[39m\u001b[39mLuis\u001b[39m\u001b[39m\"\u001b[39m))\n\u001b[0;32m      <a href='vscode-notebook-cell:/c%3A/Users/endys/PycharmProjects/Curso_Python/python_iniciantes/curso1.0/count%20e%20index.ipynb#ch0000006?line=6'>7</a>\u001b[0m \u001b[39mprint\u001b[39m(bio\u001b[39m.\u001b[39mindex([]))\n\u001b[1;32m----> <a href='vscode-notebook-cell:/c%3A/Users/endys/PycharmProjects/Curso_Python/python_iniciantes/curso1.0/count%20e%20index.ipynb#ch0000006?line=7'>8</a>\u001b[0m \u001b[39mprint\u001b[39m(bio\u001b[39m.\u001b[39;49mindex(\u001b[39m3.1416\u001b[39;49m))\n",
      "\u001b[1;31mValueError\u001b[0m: 3.1416 is not in list"
     ]
    }
   ],
   "source": [
    "#index\n",
    "musica = \"A musica é a arte de criar e organizar sons silenciosos\"\n",
    "print(musica.index(\"r\"))\n",
    "\n",
    "bio = [\"hugo\", \"Paco\", \"Luis\", [], 43]\n",
    "print(bio.index(\"Luis\"))\n",
    "print(bio.index([]))\n",
    "\n",
    "\n"
   ]
  }
 ],
 "metadata": {
  "kernelspec": {
   "display_name": "Python 3.9.7 ('base')",
   "language": "python",
   "name": "python3"
  },
  "language_info": {
   "codemirror_mode": {
    "name": "ipython",
    "version": 3
   },
   "file_extension": ".py",
   "mimetype": "text/x-python",
   "name": "python",
   "nbconvert_exporter": "python",
   "pygments_lexer": "ipython3",
   "version": "3.9.7"
  },
  "orig_nbformat": 4,
  "vscode": {
   "interpreter": {
    "hash": "bc0856dc73cb15b650ecb7793e511946532bf8e691b04060239e3c24bbd81152"
   }
  }
 },
 "nbformat": 4,
 "nbformat_minor": 2
}
