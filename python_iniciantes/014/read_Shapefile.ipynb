{
 "cells": [
  {
   "cell_type": "code",
   "execution_count": 5,
   "metadata": {},
   "outputs": [
    {
     "name": "stdout",
     "output_type": "stream",
     "text": [
      "   OBJECTID  Nom_Ilha NT_Ilha     Shape_Leng    Shape_Area  \\\n",
      "0         1  BOAVISTA      BV  151945.590694  6.313771e+08   \n",
      "1         2     BRAVA      BR   88753.109593  6.561978e+07   \n",
      "2         3      FOGO      FG  106009.712969  4.704915e+08   \n",
      "3         4      MAIO      MA  109517.355405  2.734137e+08   \n",
      "4         5       SAL      SL  124160.624858  2.196250e+08   \n",
      "\n",
      "                                            geometry  \n",
      "0  MULTIPOLYGON (((-22.78939 15.96886, -22.78940 ...  \n",
      "1  MULTIPOLYGON (((-24.66621 14.84686, -24.66611 ...  \n",
      "2  POLYGON ((-24.36820 15.05121, -24.36809 15.051...  \n",
      "3  POLYGON ((-23.17995 15.33797, -23.17996 15.337...  \n",
      "4  MULTIPOLYGON (((-22.87913 16.69487, -22.87907 ...  \n"
     ]
    },
    {
     "data": {
      "text/plain": [
       "<AxesSubplot:>"
      ]
     },
     "execution_count": 5,
     "metadata": {},
     "output_type": "execute_result"
    },
    {
     "data": {
      "image/png": "[encoded data removed]",
      "text/plain": [
       "<Figure size 432x288 with 1 Axes>"
      ]
     },
     "metadata": {
      "needs_background": "light"
     },
     "output_type": "display_data"
    }
   ],
   "source": [
    "import geopandas as gpd\n",
    "import matplotlib.pyplot as plt \n",
    "import folium\n",
    "\n",
    "\n",
    "gpd = gpd.read_file('lhas.shp')\n",
    "gpd =gpd.to_crs(epsg=4326)\n",
    "\n",
    "print(gpd.head())\n",
    "gpd.plot()\n",
    "\n",
    "\n"
   ]
  }
 ],
 "metadata": {
  "kernelspec": {
   "display_name": "Python 3.9.7 ('base')",
   "language": "python",
   "name": "python3"
  },
  "language_info": {
   "codemirror_mode": {
    "name": "ipython",
    "version": 3
   },
   "file_extension": ".py",
   "mimetype": "text/x-python",
   "name": "python",
   "nbconvert_exporter": "python",
   "pygments_lexer": "ipython3",
   "version": "3.9.7"
  },
  "orig_nbformat": 4,
  "vscode": {
   "interpreter": {
    "hash": "bc0856dc73cb15b650ecb7793e511946532bf8e691b04060239e3c24bbd81152"
   }
  }
 },
 "nbformat": 4,
 "nbformat_minor": 2
}
