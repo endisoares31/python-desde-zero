{
 "cells": [
  {
   "cell_type": "code",
   "execution_count": 13,
   "metadata": {},
   "outputs": [
    {
     "name": "stdout",
     "output_type": "stream",
     "text": [
      "nome:Ian Solomon\n",
      "nome:femenino:Ashley\n",
      "usuario:castillomichele\n",
      "senha:)%2TxGb8zs\n",
      "mes:04\n"
     ]
    }
   ],
   "source": [
    "from faker import Faker\n",
    "\n",
    "fake = Faker()\n",
    "\n",
    "nome = fake.name()\n",
    "primeiro_nome_fem = fake.first_name_female()\n",
    "usuario = fake.user_name()\n",
    "senha = fake.password()\n",
    "mes = fake.month()\n",
    "\n",
    "print(f\"nome:{nome}\")\n",
    "print(f\"nome:femenino:{primeiro_nome_fem}\")\n",
    "print(f\"usuario:{usuario}\")\n",
    "print(f\"senha:{senha}\")\n",
    "print(f\"mes:{mes}\")\n",
    "\n"
   ]
  }
 ],
 "metadata": {
  "kernelspec": {
   "display_name": "Python 3.9.7 ('base')",
   "language": "python",
   "name": "python3"
  },
  "language_info": {
   "codemirror_mode": {
    "name": "ipython",
    "version": 3
   },
   "file_extension": ".py",
   "mimetype": "text/x-python",
   "name": "python",
   "nbconvert_exporter": "python",
   "pygments_lexer": "ipython3",
   "version": "3.9.7"
  },
  "orig_nbformat": 4,
  "vscode": {
   "interpreter": {
    "hash": "bc0856dc73cb15b650ecb7793e511946532bf8e691b04060239e3c24bbd81152"
   }
  }
 },
 "nbformat": 4,
 "nbformat_minor": 2
}
