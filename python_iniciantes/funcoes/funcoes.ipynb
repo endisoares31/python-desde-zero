{
 "cells": [
  {
   "cell_type": "code",
   "execution_count": 9,
   "metadata": {},
   "outputs": [],
   "source": [
    "def somar(a, b):\n",
    "    resultado = a + b\n",
    "    return(resultado)\n"
   ]
  },
  {
   "cell_type": "code",
   "execution_count": 10,
   "metadata": {},
   "outputs": [
    {
     "data": {
      "text/plain": [
       "3"
      ]
     },
     "execution_count": 10,
     "metadata": {},
     "output_type": "execute_result"
    }
   ],
   "source": [
    "somar(1, 2)"
   ]
  },
  {
   "cell_type": "code",
   "execution_count": 21,
   "metadata": {},
   "outputs": [],
   "source": [
    "def envia_email(nome, email):\n",
    "    nome_dest = nome\n",
    "    email_dest = email \n",
    "   \n",
    "    return f'Email enviado para {nome_dest}, dono do email {email_dest}'\n"
   ]
  },
  {
   "cell_type": "code",
   "execution_count": 23,
   "metadata": {},
   "outputs": [
    {
     "name": "stdout",
     "output_type": "stream",
     "text": [
      "Email enviado para Felipe, dono do email felipe@gmail.com\n",
      "Email enviado para Gabriel, dono do email Gabriel@gmail.com\n",
      "Email enviado para Joaozinho, dono do email Joaozinho@gmail.com\n"
     ]
    }
   ],
   "source": [
    "pessoas = [\n",
    "    {\n",
    "        'nome': 'Felipe',\n",
    "        'email':'felipe@gmail.com'\n",
    "    },\n",
    "    {\n",
    "        'nome': 'Gabriel',\n",
    "        'email':'Gabriel@gmail.com'\n",
    "    },\n",
    "    {\n",
    "        'nome': 'Joaozinho',\n",
    "        'email':'Joaozinho@gmail.com'\n",
    "    }\n",
    "]\n",
    "\n",
    "for pessoa in pessoas:\n",
    "    email_enviado = envia_email(pessoa['nome'], pessoa['email'])\n",
    "    print(email_enviado)"
   ]
  }
 ],
 "metadata": {
  "kernelspec": {
   "display_name": "Python 3.9.7 ('base')",
   "language": "python",
   "name": "python3"
  },
  "language_info": {
   "codemirror_mode": {
    "name": "ipython",
    "version": 3
   },
   "file_extension": ".py",
   "mimetype": "text/x-python",
   "name": "python",
   "nbconvert_exporter": "python",
   "pygments_lexer": "ipython3",
   "version": "3.9.7"
  },
  "orig_nbformat": 4,
  "vscode": {
   "interpreter": {
    "hash": "bc0856dc73cb15b650ecb7793e511946532bf8e691b04060239e3c24bbd81152"
   }
  }
 },
 "nbformat": 4,
 "nbformat_minor": 2
}
