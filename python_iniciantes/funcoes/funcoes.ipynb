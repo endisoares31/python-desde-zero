{
 "cells": [
  {
   "cell_type": "code",
   "execution_count": 9,
   "metadata": {},
   "outputs": [],
   "source": [
    "def somar(a, b):\n",
    "    resultado = a + b\n",
    "    return(resultado)\n"
   ]
  },
  {
   "cell_type": "code",
   "execution_count": 10,
   "metadata": {},
   "outputs": [
    {
     "data": {
      "text/plain": [
       "3"
      ]
     },
     "execution_count": 10,
     "metadata": {},
     "output_type": "execute_result"
    }
   ],
   "source": [
    "somar(1, 2)"
   ]
  },
  {
   "cell_type": "code",
   "execution_count": 13,
   "metadata": {},
   "outputs": [],
   "source": [
    "def envia_email():\n",
    "    email = 'endy.soares89@gmail.com'\n",
    "    senha = '12345'\n",
    "    email_envio = 'endy.soares@hotmail.com'\n",
    "    #conecta no provedor\n",
    "    # Monta o corpo do email\n",
    "    # Envia o email\n",
    "    return 'email_enviado!'\n"
   ]
  },
  {
   "cell_type": "code",
   "execution_count": 14,
   "metadata": {},
   "outputs": [
    {
     "name": "stdout",
     "output_type": "stream",
     "text": [
      "email_enviado\n",
      "email_enviado\n",
      "email_enviado\n"
     ]
    }
   ],
   "source": [
    "pessoas = ['Felipe', 'Endi', 'Joaozinho']\n",
    "\n",
    "for pessoa in pessoas:\n",
    "    email_enviado = envia_email()\n",
    "    print(email_enviado)"
   ]
  }
 ],
 "metadata": {
  "kernelspec": {
   "display_name": "Python 3.9.7 ('base')",
   "language": "python",
   "name": "python3"
  },
  "language_info": {
   "codemirror_mode": {
    "name": "ipython",
    "version": 3
   },
   "file_extension": ".py",
   "mimetype": "text/x-python",
   "name": "python",
   "nbconvert_exporter": "python",
   "pygments_lexer": "ipython3",
   "version": "3.9.7"
  },
  "orig_nbformat": 4,
  "vscode": {
   "interpreter": {
    "hash": "bc0856dc73cb15b650ecb7793e511946532bf8e691b04060239e3c24bbd81152"
   }
  }
 },
 "nbformat": 4,
 "nbformat_minor": 2
}
